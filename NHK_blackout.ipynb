{
  "nbformat": 4,
  "nbformat_minor": 0,
  "metadata": {
    "colab": {
      "name": "NHK_blackout.ipynb",
      "version": "0.3.2",
      "provenance": [],
      "toc_visible": true,
      "include_colab_link": true
    },
    "kernelspec": {
      "name": "python3",
      "display_name": "Python 3"
    }
  },
  "cells": [
    {
      "cell_type": "markdown",
      "metadata": {
        "id": "view-in-github",
        "colab_type": "text"
      },
      "source": [
        "<a href=\"https://colab.research.google.com/github/Eihiro/roma/blob/master/NHK_blackout.ipynb\" target=\"_parent\"><img src=\"https://colab.research.google.com/assets/colab-badge.svg\" alt=\"Open In Colab\"/></a>"
      ]
    },
    {
      "cell_type": "markdown",
      "metadata": {
        "id": "vAQflAmEpKNf",
        "colab_type": "text"
      },
      "source": [
        "### 環境構築"
      ]
    },
    {
      "cell_type": "code",
      "metadata": {
        "id": "Wl5MAZDLuXCm",
        "colab_type": "code",
        "colab": {}
      },
      "source": [
        "!dpkg --configure -a"
      ],
      "execution_count": 0,
      "outputs": []
    },
    {
      "cell_type": "code",
      "metadata": {
        "id": "JIuun6QDoNh5",
        "colab_type": "code",
        "colab": {}
      },
      "source": [
        "!pip install -q scrapy\n",
        "!apt install -q aptitude\n",
        "!aptitude install mecab libmecab-dev mecab-ipadic-utf8 git make curl xz-utils file -y\n",
        "!pip install -q mecab-python3==0.7\n",
        "!pip install -q pydrive\n",
        "\n",
        "!pip install -q polyglot\n",
        "!pip install -q pyicu\n",
        "!pip install -q pycld2\n",
        "!pip install -q morfessor"
      ],
      "execution_count": 0,
      "outputs": []
    },
    {
      "cell_type": "markdown",
      "metadata": {
        "id": "6KahxhuhpNqG",
        "colab_type": "text"
      },
      "source": [
        "### GCP接続"
      ]
    },
    {
      "cell_type": "code",
      "metadata": {
        "id": "ZN3vgs24pIvE",
        "colab_type": "code",
        "colab": {}
      },
      "source": [
        "from pydrive.auth import GoogleAuth\n",
        "from pydrive.drive import GoogleDrive\n",
        "from google.colab import auth\n",
        "from oauth2client.client import GoogleCredentials\n",
        "\n",
        "auth.authenticate_user()\n",
        "gauth = GoogleAuth()\n",
        "gauth.credentials = GoogleCredentials.get_application_default()\n",
        "drive = GoogleDrive(gauth)"
      ],
      "execution_count": 0,
      "outputs": []
    },
    {
      "cell_type": "markdown",
      "metadata": {
        "id": "8O5YYNVM0Fnv",
        "colab_type": "text"
      },
      "source": [
        "### scrapy設定"
      ]
    },
    {
      "cell_type": "code",
      "metadata": {
        "id": "DC29PDDO0Izr",
        "colab_type": "code",
        "colab": {}
      },
      "source": [
        "# !scrapy startproject blackout"
      ],
      "execution_count": 0,
      "outputs": []
    },
    {
      "cell_type": "code",
      "metadata": {
        "id": "9Y7ClqEA1N_6",
        "colab_type": "code",
        "colab": {}
      },
      "source": [
        "# %cd blackout\n",
        "# !scrapy genspider google google.com -a \"groovenauts\"\n",
        "# %cd .."
      ],
      "execution_count": 0,
      "outputs": []
    },
    {
      "cell_type": "markdown",
      "metadata": {
        "id": "Qn_TqbhZoSiN",
        "colab_type": "text"
      },
      "source": [
        "### クローラのリストア"
      ]
    },
    {
      "cell_type": "code",
      "metadata": {
        "id": "Is48uVbd3-N5",
        "colab_type": "code",
        "colab": {
          "base_uri": "https://localhost:8080/",
          "height": 294
        },
        "outputId": "64cdf0c9-eff5-4227-ead3-d46ea0a03c4d"
      },
      "source": [
        "!gsutil -m cp -r gs://scrape-saishu/blackout  ."
      ],
      "execution_count": 4,
      "outputs": [
        {
          "output_type": "stream",
          "text": [
            "Copying gs://scrape-saishu/blackout/blackout/__init__.py...\n",
            "/ [0/18 files][    0.0 B/914.5 KiB]   0% Done                                   \r/ [1/18 files][    0.0 B/914.5 KiB]   0% Done                                   \rCopying gs://scrape-saishu/blackout/blackout/__pycache__/settings.cpython-36.pyc...\n",
            "/ [1/18 files][    0.0 B/914.5 KiB]   0% Done                                   \rCopying gs://scrape-saishu/blackout/blackout/__pycache__/__init__.cpython-36.pyc...\n",
            "/ [1/18 files][    0.0 B/914.5 KiB]   0% Done                                   \rCopying gs://scrape-saishu/blackout/blackout/items.py...\n",
            "Copying gs://scrape-saishu/blackout/blackout/middlewares.py...\n",
            "Copying gs://scrape-saishu/blackout/blackout/pipelines.py...\n",
            "/ [1/18 files][    0.0 B/914.5 KiB]   0% Done                                   \r/ [1/18 files][    0.0 B/914.5 KiB]   0% Done                                   \r/ [1/18 files][    0.0 B/914.5 KiB]   0% Done                                   \rCopying gs://scrape-saishu/blackout/blackout/settings.py...\n",
            "Copying gs://scrape-saishu/blackout/blackout/spiders/__init__.py...\n",
            "/ [1/18 files][    0.0 B/914.5 KiB]   0% Done                                   \r/ [1/18 files][    0.0 B/914.5 KiB]   0% Done                                   \rCopying gs://scrape-saishu/blackout/blackout/spiders/__pycache__/__init__.cpython-36.pyc...\n",
            "/ [1/18 files][    0.0 B/914.5 KiB]   0% Done                                   \rCopying gs://scrape-saishu/blackout/blackout/spiders/google.py...\n",
            "Copying gs://scrape-saishu/blackout/blackout/spiders/__pycache__/google.cpython-36.pyc...\n",
            "Copying gs://scrape-saishu/blackout/data/articles.txt...\n",
            "Copying gs://scrape-saishu/blackout/model/article_model...\n",
            "Copying gs://scrape-saishu/blackout/model/metadata...\n",
            "Copying gs://scrape-saishu/blackout/scrapy.cfg...\n",
            "Copying gs://scrape-saishu/blackout/model/vector...\n"
          ],
          "name": "stdout"
        }
      ]
    },
    {
      "cell_type": "markdown",
      "metadata": {
        "id": "6JGdUEOgoKaY",
        "colab_type": "text"
      },
      "source": [
        "### クロール実施"
      ]
    },
    {
      "cell_type": "code",
      "metadata": {
        "id": "XtQq9RyG3VeY",
        "colab_type": "code",
        "colab": {}
      },
      "source": [
        "%cd blackout\n",
        "!scrapy crawl google\n",
        "%cd .."
      ],
      "execution_count": 0,
      "outputs": []
    },
    {
      "cell_type": "markdown",
      "metadata": {
        "id": "67aV4Dj6l_Wz",
        "colab_type": "text"
      },
      "source": [
        "### Doc2Vec関連ライブラリ読み込み"
      ]
    },
    {
      "cell_type": "code",
      "metadata": {
        "id": "bP_kgG_GmFVB",
        "colab_type": "code",
        "colab": {}
      },
      "source": [
        "from gensim.models import word2vec\n",
        "import MeCab"
      ],
      "execution_count": 0,
      "outputs": []
    },
    {
      "cell_type": "markdown",
      "metadata": {
        "id": "5JN3QO9TmMQJ",
        "colab_type": "text"
      },
      "source": [
        "### 形態素解析"
      ]
    },
    {
      "cell_type": "code",
      "metadata": {
        "id": "5jguKbCcmOrR",
        "colab_type": "code",
        "colab": {}
      },
      "source": [
        "from polyglot.text import Text\n",
        "\n",
        "def split_into_words(text):\n",
        "    mecab = MeCab.Tagger(\"-Ochasen\")\n",
        "    lines = mecab.parse(text).splitlines()\n",
        "    words = []\n",
        "    for line in lines:\n",
        "        chunks = line.split('\\t')\n",
        "#        if len(chunks) > 3 and (chunks[3].startswith('動詞') or chunks[3].startswith('形容詞') or (chunks[3].startswith('名詞') and not chunks[3].startswith('名詞-数'))):\n",
        "        if len(chunks) > 3 and ( chunks[3].startswith('名詞-一般') or chunks[3].startswith('名詞-サ変接続') or chunks[3].startswith('名詞-形容動詞語幹') ):\n",
        "            print(chunks)\n",
        "            words.append(chunks[0])\n",
        "    return words"
      ],
      "execution_count": 0,
      "outputs": []
    },
    {
      "cell_type": "markdown",
      "metadata": {
        "id": "WUC7i3dSm7gy",
        "colab_type": "text"
      },
      "source": [
        "### Doc2Vec学習"
      ]
    },
    {
      "cell_type": "code",
      "metadata": {
        "id": "Q7GhecOmm9NU",
        "colab_type": "code",
        "colab": {}
      },
      "source": [
        "trainings = []\n",
        "\n",
        "articles = open(\"./blackout/data/articles.txt\", 'r')\n",
        "\n",
        "for line in articles:\n",
        "  words = split_into_words(line)\n",
        "\n",
        "  for word in words:\n",
        "    if word != \"\" :\n",
        "      trainings.append(word)\n",
        "      \n",
        "print(trainings)"
      ],
      "execution_count": 0,
      "outputs": []
    },
    {
      "cell_type": "code",
      "metadata": {
        "id": "Wuq1pUEDwRMq",
        "colab_type": "code",
        "colab": {}
      },
      "source": [
        "model = word2vec.Word2Vec([trainings], size=100,min_count=1,window=5,iter=100)"
      ],
      "execution_count": 0,
      "outputs": []
    },
    {
      "cell_type": "markdown",
      "metadata": {
        "id": "7zbClWGizqDl",
        "colab_type": "text"
      },
      "source": [
        "### modelの保存"
      ]
    },
    {
      "cell_type": "code",
      "metadata": {
        "id": "8AclzMGazsel",
        "colab_type": "code",
        "colab": {
          "base_uri": "https://localhost:8080/",
          "height": 72
        },
        "outputId": "04e74a3c-e384-416e-af8e-ef3ef7b026fd"
      },
      "source": [
        "model.save(\"./blackout/model/article_model\")"
      ],
      "execution_count": 9,
      "outputs": [
        {
          "output_type": "stream",
          "text": [
            "/usr/local/lib/python3.6/dist-packages/smart_open/smart_open_lib.py:398: UserWarning: This function is deprecated, use smart_open.open instead. See the migration notes for details: https://github.com/RaRe-Technologies/smart_open/blob/master/README.rst#migrating-to-the-new-open-function\n",
            "  'See the migration notes for details: %s' % _MIGRATION_NOTES_URL\n"
          ],
          "name": "stderr"
        }
      ]
    },
    {
      "cell_type": "markdown",
      "metadata": {
        "id": "4fSmxQ1M1fxX",
        "colab_type": "text"
      },
      "source": [
        "### 可視化用データ作成"
      ]
    },
    {
      "cell_type": "code",
      "metadata": {
        "id": "2oT-w6OU1iwz",
        "colab_type": "code",
        "colab": {}
      },
      "source": [
        "def save_embedding_projector_files(model, vector_file, metadata_file):\n",
        "    with open(vector_file, 'w', encoding='utf-8') as f, \\\n",
        "         open(metadata_file, 'w', encoding='utf-8') as g:\n",
        "\n",
        "        # metadata file needs header\n",
        "        # g.write('Word\\n')\n",
        "\n",
        "        for word in model.wv.vocab.keys():\n",
        "            embedding = model.wv[word]\n",
        "\n",
        "            # Save vector TSV file\n",
        "            f.write('\\t'.join([('%f' % x) for x in embedding]) + '\\n')\n",
        "\n",
        "            # Save metadata TSV file\n",
        "            g.write(word + '\\n')"
      ],
      "execution_count": 0,
      "outputs": []
    },
    {
      "cell_type": "code",
      "metadata": {
        "id": "t1LYxq1F1wI1",
        "colab_type": "code",
        "colab": {}
      },
      "source": [
        "save_embedding_projector_files(model, \"./blackout/model/vector\", \"./blackout/model/metadata\")"
      ],
      "execution_count": 0,
      "outputs": []
    },
    {
      "cell_type": "code",
      "metadata": {
        "id": "BxvkX83d0h7w",
        "colab_type": "code",
        "colab": {
          "base_uri": "https://localhost:8080/",
          "height": 104
        },
        "outputId": "bc6795da-794f-4210-8740-bcb0b6619569"
      },
      "source": [
        "!gsutil cp ./blackout/model/* gs://scrape-saishu/blackout/model/"
      ],
      "execution_count": 43,
      "outputs": [
        {
          "output_type": "stream",
          "text": [
            "Copying file://./blackout/model/article_model [Content-Type=application/octet-stream]...\n",
            "Copying file://./blackout/model/metadata [Content-Type=application/octet-stream]...\n",
            "Copying file://./blackout/model/vector [Content-Type=application/octet-stream]...\n",
            "-\n",
            "Operation completed over 3 objects/878.6 KiB.                                    \n"
          ],
          "name": "stdout"
        }
      ]
    },
    {
      "cell_type": "markdown",
      "metadata": {
        "id": "4E0UklPHgc6l",
        "colab_type": "text"
      },
      "source": [
        "### カウント"
      ]
    },
    {
      "cell_type": "code",
      "metadata": {
        "id": "v4kCOtUrggwK",
        "colab_type": "code",
        "colab": {
          "base_uri": "https://localhost:8080/",
          "height": 55
        },
        "outputId": "4bb3fd7e-59c9-4a27-fc02-055fbd999f4e"
      },
      "source": [
        "import collections\n",
        "\n",
        "c = dict(collections.Counter(trainings))\n",
        "\n",
        "c = sorted(c.items(), reverse=True, key=lambda x : x[1])\n",
        "\n",
        "print(c)\n",
        "# Counter({'a': 4, 'c': 2, 'b': 1})\n"
      ],
      "execution_count": 13,
      "outputs": [
        {
          "output_type": "stream",
          "text": [
            "[('停電', 79), ('設備', 50), ('電源', 38), ('使用', 26), ('機能', 25), ('停止', 24), ('利用', 24), ('確認', 23), ('消防', 22), ('発電', 20), ('機器', 18), ('危険', 17), ('自家', 17), ('コンセント', 17), ('発生', 16), ('事項', 16), ('確保', 16), ('電気', 16), ('プラグ', 16), ('防止', 15), ('データ', 15), ('防火', 14), ('施設', 14), ('非常', 14), ('燃料', 14), ('必要', 13), ('センター', 13), ('作動', 12), ('計画', 12), ('火災', 11), ('避難', 11), ('システム', 11), ('対象', 10), ('対応', 10), ('常用', 10), ('消火', 9), ('留意', 9), ('家庭', 9), ('お願い', 9), ('ベッド', 9), ('取扱', 9), ('体制', 8), ('点検', 8), ('関係', 8), ('通電', 8), ('製品', 8), ('終了', 8), ('コンピューター', 8), ('管理', 7), ('方法', 7), ('経路', 7), ('自動', 7), ('予想', 7), ('スイッチ', 7), ('電化', 7), ('恐れ', 7), ('対策', 6), ('次', 6), ('ガス', 6), ('事前', 6), ('復旧', 6), ('相談', 6), ('運転', 6), ('補給', 6), ('実施', 6), ('注意', 6), ('電話', 6), ('上げ', 6), ('センサー', 6), ('供給', 6), ('規模', 5), ('設置', 5), ('操作', 5), ('徹底', 5), ('一般', 5), ('設定', 5), ('措置', 5), ('サービス', 5), ('不能', 5), ('通報', 5), ('介護', 5), ('皆様', 5), ('背', 5), ('手元', 5), ('充電', 5), ('サーバ', 5), ('電力', 5), ('バックアップ', 5), ('インターネット', 5), ('メール', 5), ('特殊', 4), ('支障', 4), ('災害', 4), ('状況', 4), ('安全', 4), ('手動', 4), ('警報', 4), ('周知', 4), ('誘導', 4), ('稼働', 4), ('可能', 4), ('起動', 4), ('試運転', 4), ('緊急', 4), ('確実', 4), ('蓄電池', 4), ('エレベーター', 4), ('遊具', 4), ('破損', 4), ('修理', 4), ('状態', 4), ('解除', 4), ('脚', 4), ('説明', 4), ('速やか', 4), ('影響', 4), ('事故', 3), ('保安', 3), ('参考', 3), ('自主', 3), ('手順', 3), ('火気', 3), ('器具', 3), ('想定', 3), ('上記', 3), ('万全', 3), ('自動的', 3), ('エンジン', 3), ('タンク', 3), ('プラント', 3), ('制御', 3), ('動力', 3), ('電子', 3), ('レンジ', 3), ('通行', 3), ('制限', 3), ('モーター', 3), ('復帰', 3), ('換気', 3), ('不用意', 3), ('本体', 3), ('レバー', 3), ('位置', 3), ('マットレス', 3), ('控え', 3), ('中止', 3), ('製造', 3), ('UPS', 3), ('コンピュータ', 3), ('シャット', 3), ('ダウン', 3), ('事業', 3), ('協会', 3), ('提供', 3), ('有効', 2), ('石油', 2), ('コンビナート', 2), ('特定', 2), ('防災', 2), ('容量', 2), ('簡易', 2), ('用具', 2), ('場所', 2), ('活性', 2), ('放出', 2), ('巡回', 2), ('早期', 2), ('発見', 2), ('附置', 2), ('維持', 2), ('部分', 2), ('空気抜き', 2), ('館', 2), ('例', 2), ('稼動', 2), ('警告', 2), ('対処', 2), ('関連', 2), ('配管', 2), ('損傷', 2), ('油', 2), ('冷却', 2), ('十分', 2), ('コンロ', 2), ('電話機', 2), ('錠', 2), ('扉', 2), ('ドア', 2), ('内部', 2), ('部品', 2), ('発煙', 2), ('発火', 2), ('買い上げ', 2), ('販売', 2), ('窓口', 2), ('株式会社', 2), ('ウインドウ', 2), ('水害', 2), ('冠水', 2), ('おすすめ', 2), ('乾燥', 2), ('下記', 2), ('タイマー', 2), ('電動', 2), ('水平', 2), ('医師', 2), ('看護', 2), ('ヘルパー', 2), ('角度', 2), ('指示', 2), ('お客様', 2), ('昇降', 2), ('項', 2), ('故障', 2), ('離床', 2), ('バッテリー', 2), ('IT', 2), ('ソフトウェア', 2), ('重要', 2), ('回復', 2), ('～', 2), ('ケース', 2), ('事態', 2), ('給油', 2), ('契約', 2), ('要望', 2), ('会員', 2), ('情報', 2), ('流出', 1), ('不具合', 1), ('懸念', 1), ('性能', 1), ('用途', 1), ('収容', 1), ('人員', 1), ('勘案', 1), ('ろ', 1), ('火元', 1), ('警戒', 1), ('入念', 1), ('当該', 1), ('範囲', 1), ('連絡', 1), ('原則', 1), ('後述', 1), ('従業', 1), ('管轄', 1), ('消防署', 1), ('空', 1), ('減', 1), ('鳴動', 1), ('報知', 1), ('開始', 1), ('系統', 1), ('反応', 1), ('工程', 1), ('異常', 1), ('他', 1), ('用役', 1), ('バルブ', 1), ('閉鎖', 1), ('拡大', 1), ('屋外', 1), ('給水', 1), ('予備', 1), ('観点', 1), ('ファックス', 1), ('進入', 1), ('予定', 1), ('地震', 1), ('転倒', 1), ('落下', 1), ('漏電', 1), ('買い替え', 1), ('泥', 1), ('塩分', 1), ('大変', 1), ('暖房', 1), ('ポット', 1), ('発熱', 1), ('応用', 1), ('電流', 1), ('ヒューズ', 1), ('ブレーカー', 1), ('悪影響', 1), ('冷蔵庫', 1), ('時刻', 1), ('(', 1), ('換気扇', 1), ('フード', 1), (')', 1), ('夜間', 1), ('手', 1), ('窓', 1), ('戸', 1), ('寒気', 1), ('小型', 1), ('湯', 1), ('沸', 1), ('ガスコンロ', 1), ('不十分', 1), ('不完全', 1), ('燃焼', 1), ('一酸化', 1), ('炭素', 1), ('中毒', 1), ('AC', 1), ('V', 1), ('病院', 1), ('床板', 1), ('受け', 1), ('付', 1), ('乗り降り', 1), ('調整', 1), ('脚下', 1), ('リリース', 1), ('-', 1), ('基', 1), ('逆', 1), ('医療', 1), ('付加', 1), ('健康', 1), ('ボタン', 1), ('タイプ', 1), ('無理', 1), ('ローラー', 1), ('正規', 1), ('商品', 1), ('ライト', 1), ('アシスト', 1), ('自転車', 1), ('出火', 1), ('FAX', 1), ('携帯', 1), ('公衆', 1), ('予測', 1), ('所有', 1), ('協力', 1), ('開放', 1), ('積極', 1), ('認識', 1), ('訓練', 1), ('予防', 1), ('ーシステム', 1), ('構成', 1), ('唯一', 1), ('エネルギー', 1), ('不可欠', 1), ('熱', 1), ('冷房', 1), ('空調', 1), ('急', 1), ('遮断', 1), ('重大', 1), ('障害', 1), ('通常', 1), ('装置', 1), ('仕組み', 1), ('間', 1), ('処理', 1), ('不足', 1), ('備蓄', 1), ('時点', 1), ('喪失', 1), ('手配', 1), ('専用', 1), ('優先', 1), ('最低限', 1), ('社内', 1), ('地区', 1), ('現状', 1), ('answer', 1), ('月', 1), ('報告', 1), ('商用', 1), ('長期', 1), ('恒常', 1), ('経済', 1), ('産業', 1), ('不測', 1), ('所存', 1), ('エリア', 1), ('移転', 1), ('全国', 1), ('複数', 1), ('運営', 1), ('共有', 1), ('企業', 1), ('幸い', 1), ('DNS', 1), ('ドメイン', 1), ('住所', 1), ('存在', 1), ('メーリングリスト', 1), ('転送', 1), ('検索', 1), ('リスト', 1), ('ホームページ', 1), ('リンク', 1), ('エラー', 1), ('発信', 1), ('返送', 1), ('保護', 1)]\n"
          ],
          "name": "stdout"
        }
      ]
    },
    {
      "cell_type": "markdown",
      "metadata": {
        "id": "0NS2LzqlgzTv",
        "colab_type": "text"
      },
      "source": [
        "### 類似度計算"
      ]
    },
    {
      "cell_type": "code",
      "metadata": {
        "id": "nz3c5GXCwjK3",
        "colab_type": "code",
        "colab": {
          "base_uri": "https://localhost:8080/",
          "height": 245
        },
        "outputId": "51595778-008e-43a3-c7c9-25eb33dc052b"
      },
      "source": [
        "ret = model.wv.most_similar(positive=['停電']) \n",
        "for item in ret:\n",
        "    print(item[0], item[1])\n"
      ],
      "execution_count": 14,
      "outputs": [
        {
          "output_type": "stream",
          "text": [
            "措置 0.9791111946105957\n",
            "防止 0.9735440015792847\n",
            "設定 0.971636950969696\n",
            "無理 0.9711635112762451\n",
            "注意 0.9705602526664734\n",
            "確実 0.9702361822128296\n",
            "レンジ 0.966916561126709\n",
            "おすすめ 0.9657365083694458\n",
            "逆 0.9656738042831421\n",
            "出火 0.9638320207595825\n"
          ],
          "name": "stdout"
        },
        {
          "output_type": "stream",
          "text": [
            "/usr/local/lib/python3.6/dist-packages/gensim/matutils.py:737: FutureWarning: Conversion of the second argument of issubdtype from `int` to `np.signedinteger` is deprecated. In future, it will be treated as `np.int64 == np.dtype(int).type`.\n",
            "  if np.issubdtype(vec.dtype, np.int):\n"
          ],
          "name": "stderr"
        }
      ]
    },
    {
      "cell_type": "code",
      "metadata": {
        "id": "uczsGoXwy8QH",
        "colab_type": "code",
        "colab": {
          "base_uri": "https://localhost:8080/",
          "height": 279
        },
        "outputId": "ae8c2f39-0be1-45d9-be1f-35689ad9cb0c"
      },
      "source": [
        "out = model.most_similar(positive=[u\"停電\", u\"システム\"], negative=[u\"コンピュータ\"])\n",
        "for x in out:\n",
        "  print(x[0])"
      ],
      "execution_count": 15,
      "outputs": [
        {
          "output_type": "stream",
          "text": [
            "出火\n",
            "無理\n",
            "注意\n",
            "おすすめ\n",
            "V\n",
            "レンジ\n",
            "逆\n",
            "部品\n",
            "自転車\n",
            "位置\n"
          ],
          "name": "stdout"
        },
        {
          "output_type": "stream",
          "text": [
            "/usr/local/lib/python3.6/dist-packages/ipykernel_launcher.py:1: DeprecationWarning: Call to deprecated `most_similar` (Method will be removed in 4.0.0, use self.wv.most_similar() instead).\n",
            "  \"\"\"Entry point for launching an IPython kernel.\n",
            "/usr/local/lib/python3.6/dist-packages/gensim/matutils.py:737: FutureWarning: Conversion of the second argument of issubdtype from `int` to `np.signedinteger` is deprecated. In future, it will be treated as `np.int64 == np.dtype(int).type`.\n",
            "  if np.issubdtype(vec.dtype, np.int):\n"
          ],
          "name": "stderr"
        }
      ]
    }
  ]
}